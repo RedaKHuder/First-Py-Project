{
  "metadata": {
    "language_info": {
      "name": "python"
    },
    "kernelspec": {
      "name": "python3",
      "display_name": "Python 3"
    },
    "colab": {
      "provenance": []
    },
    "gpuClass": "standard"
  },
  "nbformat_minor": 0,
  "nbformat": 4,
  "cells": [
    {
      "cell_type": "code",
      "source": [
        "!pip install requests"
      ],
      "metadata": {
        "colab": {
          "base_uri": "https://localhost:8080/"
        },
        "id": "GpZJhn_vAR-u",
        "outputId": "296576cb-cfbd-40e3-ccea-d5c72dbe4045"
      },
      "execution_count": 1,
      "outputs": [
        {
          "output_type": "stream",
          "name": "stdout",
          "text": [
            "Looking in indexes: https://pypi.org/simple, https://us-python.pkg.dev/colab-wheels/public/simple/\n",
            "Requirement already satisfied: requests in /usr/local/lib/python3.8/dist-packages (2.25.1)\n",
            "Requirement already satisfied: chardet<5,>=3.0.2 in /usr/local/lib/python3.8/dist-packages (from requests) (4.0.0)\n",
            "Requirement already satisfied: certifi>=2017.4.17 in /usr/local/lib/python3.8/dist-packages (from requests) (2022.12.7)\n",
            "Requirement already satisfied: idna<3,>=2.5 in /usr/local/lib/python3.8/dist-packages (from requests) (2.10)\n",
            "Requirement already satisfied: urllib3<1.27,>=1.21.1 in /usr/local/lib/python3.8/dist-packages (from requests) (1.24.3)\n"
          ]
        }
      ]
    },
    {
      "cell_type": "code",
      "source": [
        "import requests\n",
        "from bs4 import BeautifulSoup\n",
        "from datetime import datetime\n",
        "from urllib.parse import quote"
      ],
      "metadata": {
        "id": "ueUQyKDsAgHt"
      },
      "execution_count": 117,
      "outputs": []
    },
    {
      "cell_type": "code",
      "source": [
        "  url = f\"https://www.billboard.com/charts/hot-100/{bday_year}-{bday_week}-{bday_day}\"\n",
        "  print(f\"URL: {url}\")\n",
        "  # Send a request to the URL\n",
        "  response = requests.get(url)\n",
        "  # Parse the HTML of the page\n",
        "  soup = BeautifulSoup(response.text, \"html.parser\")\n",
        "  # Find the first song on the chart\n",
        "  song = soup.find(\"a\", class_=\"c-title__link lrv-a-unstyle-link\")\n",
        "  # Find the artist name for the song\n",
        "  Artist =soup.find (\"p\",class_=\"c-title__link lrv-a-unstyle-link\")\n",
        "  song = song.text.strip()\n",
        "  print(song)\n",
        "  print(Artist)"
      ],
      "metadata": {
        "colab": {
          "base_uri": "https://localhost:8080/"
        },
        "id": "-cOgYAqYdZiL",
        "outputId": "38a7c8fd-5d98-4794-c270-01792b1e2cf9"
      },
      "execution_count": 139,
      "outputs": [
        {
          "output_type": "stream",
          "name": "stdout",
          "text": [
            "URL: https://www.billboard.com/charts/hot-100/2008-04-26\n",
            "Bleeding Love\n",
            "None\n"
          ]
        }
      ]
    },
    {
      "cell_type": "code",
      "source": [
        "\n",
        "def get_song(birthday):\n",
        "  # Convert the birthday string to a date object\n",
        "  birthday_date = datetime.strptime(birthday, \"%Y-%m-%d\")\n",
        "  # Calculate the year after 15 years\n",
        "  bday_year = birthday_date.year + 15\n",
        "  # set the birthday month\n",
        "  bday_week = birthday_date.strftime(\"%m\")\n",
        "  # set the birthday day\n",
        "  bday_day = birthday_date.strftime(\"%d\")\n",
        "  # Set the URL\n",
        "  url = f\"https://www.billboard.com/charts/hot-100/{bday_year}-{bday_week}-{bday_day}\"\n",
        "  print(f\"URL: {url}\")\n",
        "  # Send a request to the URL\n",
        "  response = requests.get(url)\n",
        "  # Parse the HTML of the page\n",
        "  soup = BeautifulSoup(response.text, \"html.parser\")\n",
        "  # Find the first song on the chart\n",
        "  song = soup.find(\"a\", class_=\"c-title__link lrv-a-unstyle-link\")\n",
        "  Artist =soup.find (\"p\",class_=\"c-tagline  a-font-primary-l a-font-primary-m@mobile-max lrv-u-color-black u-color-white@mobile-max lrv-u-margin-tb-00 lrv-u-padding-t-025 lrv-u-margin-r-150\")\n",
        "  if song is not None:\n",
        "    song = song.text.strip()\n",
        "    Artist - Artist.text.strip()\n",
        "  # Return the song\n",
        "    encoded_song = quote(song)\n",
        "  # Create a link to YouTube for the song\n",
        "  youtube_link = f\"https://www.youtube.com/results?search_query={encoded_song}\"\n",
        "  # Return the song and link\n",
        "  return song, youtube_link,Artist\n",
        "  return song\n",
        "  "
      ],
      "metadata": {
        "id": "l7I4MhaMCMyW"
      },
      "execution_count": 125,
      "outputs": []
    },
    {
      "cell_type": "code",
      "source": [
        "# Active teh Code:\n",
        "birthday = input(\"Enter your birthday (YYYY-MM-DD): \")\n",
        "song,Artist, youtube_link = get_song(birthday)\n",
        "print(f\"The number 1 song on the Billboard when you was a teenager was {song} by {Artist}\")\n",
        "print(f\"You can find the song on YouTube at the following link: {youtube_link}.\")"
      ],
      "metadata": {
        "colab": {
          "base_uri": "https://localhost:8080/",
          "height": 408
        },
        "id": "iq3f6SE2Al-O",
        "outputId": "eedc4044-20fe-4195-8bd4-577fac457eb1"
      },
      "execution_count": 126,
      "outputs": [
        {
          "output_type": "stream",
          "name": "stdout",
          "text": [
            "Enter your birthday (YYYY-MM-DD): 1993-04-26\n",
            "URL: https://www.billboard.com/charts/hot-100/2008-04-26\n"
          ]
        },
        {
          "output_type": "error",
          "ename": "AttributeError",
          "evalue": "ignored",
          "traceback": [
            "\u001b[0;31m---------------------------------------------------------------------------\u001b[0m",
            "\u001b[0;31mAttributeError\u001b[0m                            Traceback (most recent call last)",
            "\u001b[0;32m<ipython-input-126-2b7573235553>\u001b[0m in \u001b[0;36m<module>\u001b[0;34m\u001b[0m\n\u001b[1;32m      1\u001b[0m \u001b[0;31m# Active teh Code:\u001b[0m\u001b[0;34m\u001b[0m\u001b[0;34m\u001b[0m\u001b[0;34m\u001b[0m\u001b[0m\n\u001b[1;32m      2\u001b[0m \u001b[0mbirthday\u001b[0m \u001b[0;34m=\u001b[0m \u001b[0minput\u001b[0m\u001b[0;34m(\u001b[0m\u001b[0;34m\"Enter your birthday (YYYY-MM-DD): \"\u001b[0m\u001b[0;34m)\u001b[0m\u001b[0;34m\u001b[0m\u001b[0;34m\u001b[0m\u001b[0m\n\u001b[0;32m----> 3\u001b[0;31m \u001b[0msong\u001b[0m\u001b[0;34m,\u001b[0m\u001b[0mArtist\u001b[0m\u001b[0;34m,\u001b[0m \u001b[0myoutube_link\u001b[0m \u001b[0;34m=\u001b[0m \u001b[0mget_song\u001b[0m\u001b[0;34m(\u001b[0m\u001b[0mbirthday\u001b[0m\u001b[0;34m)\u001b[0m\u001b[0;34m\u001b[0m\u001b[0;34m\u001b[0m\u001b[0m\n\u001b[0m\u001b[1;32m      4\u001b[0m \u001b[0mprint\u001b[0m\u001b[0;34m(\u001b[0m\u001b[0;34mf\"The number 1 song on the Billboard when you was a teenager was {song} by {Artist}\"\u001b[0m\u001b[0;34m)\u001b[0m\u001b[0;34m\u001b[0m\u001b[0;34m\u001b[0m\u001b[0m\n\u001b[1;32m      5\u001b[0m \u001b[0mprint\u001b[0m\u001b[0;34m(\u001b[0m\u001b[0;34mf\"You can find the song on YouTube at the following link: {youtube_link}.\"\u001b[0m\u001b[0;34m)\u001b[0m\u001b[0;34m\u001b[0m\u001b[0;34m\u001b[0m\u001b[0m\n",
            "\u001b[0;32m<ipython-input-125-5cf533bcd5f9>\u001b[0m in \u001b[0;36mget_song\u001b[0;34m(birthday)\u001b[0m\n\u001b[1;32m     20\u001b[0m   \u001b[0;32mif\u001b[0m \u001b[0msong\u001b[0m \u001b[0;32mis\u001b[0m \u001b[0;32mnot\u001b[0m \u001b[0;32mNone\u001b[0m\u001b[0;34m:\u001b[0m\u001b[0;34m\u001b[0m\u001b[0;34m\u001b[0m\u001b[0m\n\u001b[1;32m     21\u001b[0m     \u001b[0msong\u001b[0m \u001b[0;34m=\u001b[0m \u001b[0msong\u001b[0m\u001b[0;34m.\u001b[0m\u001b[0mtext\u001b[0m\u001b[0;34m.\u001b[0m\u001b[0mstrip\u001b[0m\u001b[0;34m(\u001b[0m\u001b[0;34m)\u001b[0m\u001b[0;34m\u001b[0m\u001b[0;34m\u001b[0m\u001b[0m\n\u001b[0;32m---> 22\u001b[0;31m     \u001b[0mArtist\u001b[0m \u001b[0;34m-\u001b[0m \u001b[0mArtist\u001b[0m\u001b[0;34m.\u001b[0m\u001b[0mtext\u001b[0m\u001b[0;34m.\u001b[0m\u001b[0mstrip\u001b[0m\u001b[0;34m(\u001b[0m\u001b[0;34m)\u001b[0m\u001b[0;34m\u001b[0m\u001b[0;34m\u001b[0m\u001b[0m\n\u001b[0m\u001b[1;32m     23\u001b[0m   \u001b[0;31m# Return the song\u001b[0m\u001b[0;34m\u001b[0m\u001b[0;34m\u001b[0m\u001b[0;34m\u001b[0m\u001b[0m\n\u001b[1;32m     24\u001b[0m     \u001b[0mencoded_song\u001b[0m \u001b[0;34m=\u001b[0m \u001b[0mquote\u001b[0m\u001b[0;34m(\u001b[0m\u001b[0msong\u001b[0m\u001b[0;34m)\u001b[0m\u001b[0;34m\u001b[0m\u001b[0;34m\u001b[0m\u001b[0m\n",
            "\u001b[0;31mAttributeError\u001b[0m: 'NoneType' object has no attribute 'text'"
          ]
        }
      ]
    }
  ]
}