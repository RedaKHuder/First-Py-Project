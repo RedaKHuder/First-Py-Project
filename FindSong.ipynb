{
  "metadata": {
    "language_info": {
      "name": "python"
    },
    "kernelspec": {
      "name": "python3",
      "display_name": "Python 3"
    },
    "colab": {
      "provenance": []
    },
    "gpuClass": "standard"
  },
  "nbformat_minor": 0,
  "nbformat": 4,
  "cells": [
    {
      "cell_type": "code",
      "source": [
        "!pip install requests"
      ],
      "metadata": {
        "colab": {
          "base_uri": "https://localhost:8080/"
        },
        "id": "GpZJhn_vAR-u",
        "outputId": "296576cb-cfbd-40e3-ccea-d5c72dbe4045"
      },
      "execution_count": 1,
      "outputs": [
        {
          "output_type": "stream",
          "name": "stdout",
          "text": [
            "Looking in indexes: https://pypi.org/simple, https://us-python.pkg.dev/colab-wheels/public/simple/\n",
            "Requirement already satisfied: requests in /usr/local/lib/python3.8/dist-packages (2.25.1)\n",
            "Requirement already satisfied: chardet<5,>=3.0.2 in /usr/local/lib/python3.8/dist-packages (from requests) (4.0.0)\n",
            "Requirement already satisfied: certifi>=2017.4.17 in /usr/local/lib/python3.8/dist-packages (from requests) (2022.12.7)\n",
            "Requirement already satisfied: idna<3,>=2.5 in /usr/local/lib/python3.8/dist-packages (from requests) (2.10)\n",
            "Requirement already satisfied: urllib3<1.27,>=1.21.1 in /usr/local/lib/python3.8/dist-packages (from requests) (1.24.3)\n"
          ]
        }
      ]
    },
    {
      "cell_type": "code",
      "source": [
        "import requests\n",
        "from bs4 import BeautifulSoup\n",
        "from datetime import datetime\n",
        "from urllib.parse import quote"
      ],
      "metadata": {
        "id": "ueUQyKDsAgHt"
      },
      "execution_count": 117,
      "outputs": []
    },
    {
      "cell_type": "code",
      "source": [
        "  url = f\"https://www.billboard.com/charts/hot-100/{bday_year}-{bday_week}-{bday_day}\"\n",
        "  print(f\"URL: {url}\")\n",
        "  # Send a request to the URL\n",
        "  response = requests.get(url)\n",
        "  # Parse the HTML of the page\n",
        "  soup = BeautifulSoup(response.text, \"html.parser\")\n",
        "  # Find the first song on the chart\n",
        "  song = soup.find(\"a\", class_=\"c-title__link lrv-a-unstyle-link\")\n",
        "  # Find the artist name for the song\n",
        "  Artist =soup.find (\"p\",class_=\"c-title__link lrv-a-unstyle-link\")\n",
        "  song = song.text.strip()\n",
        "  print(song)\n",
        "  print(Artist)"
      ],
      "metadata": {
        "colab": {
          "base_uri": "https://localhost:8080/"
        },
        "id": "-cOgYAqYdZiL",
        "outputId": "38a7c8fd-5d98-4794-c270-01792b1e2cf9"
      },
      "execution_count": 139,
      "outputs": [
        {
          "output_type": "stream",
          "name": "stdout",
          "text": [
            "URL: https://www.billboard.com/charts/hot-100/2008-04-26\n",
            "Bleeding Love\n",
            "None\n"
          ]
        }
      ]
    },
    {
      "cell_type": "code",
      "source": [
        "\n",
        "def get_song(birthday):\n",
        "  # Convert the birthday string to a date object\n",
        "  birthday_date = datetime.strptime(birthday, \"%Y-%m-%d\")\n",
        "  # Calculate the year after 15 years\n",
        "  bday_year = birthday_date.year + 15\n",
        "  # set the birthday month\n",
        "  bday_week = birthday_date.strftime(\"%m\")\n",
        "  # set the birthday day\n",
        "  bday_day = birthday_date.strftime(\"%d\")\n",
        "  # Set the URL\n",
        "  url = f\"https://www.billboard.com/charts/hot-100/{bday_year}-{bday_week}-{bday_day}\"\n",
        "  print(f\"URL: {url}\")\n",
        "  # Send a request to the URL\n",
        "  response = requests.get(url)\n",
        "  # Parse the HTML of the page\n",
        "  soup = BeautifulSoup(response.text, \"html.parser\")\n",
        "  # Find the first song on the chart\n",
        "  song = soup.find(\"a\", class_=\"c-title__link lrv-a-unstyle-link\")\n",
        "  Artist =soup.find (\"p\",class_=\"c-tagline  a-font-primary-l a-font-primary-m@mobile-max lrv-u-color-black u-color-white@mobile-max lrv-u-margin-tb-00 lrv-u-padding-t-025 lrv-u-margin-r-150\")\n",
        "  if song is not None:\n",
        "    song = song.text.strip()\n",
        "    Artist - Artist.text.strip()\n",
        "  # Return the song\n",
        "    encoded_song = quote(song)\n",
        "  # Create a link to YouTube for the song\n",
        "  youtube_link = f\"https://www.youtube.com/results?search_query={encoded_song}\"\n",
        "  # Return the song and link\n",
        "  return song, youtube_link,Artist\n",
        "  return song\n",
        "  "
      ],
      "metadata": {
        "id": "l7I4MhaMCMyW"
      },
      "execution_count": 125,
      "outputs": []
    },
    {
      "cell_type": "code",
      "source": [
        "# Active teh Code:\n",
        "birthday = input(\"Enter your birthday (YYYY-MM-DD): \")\n",
        "song,Artist, youtube_link = get_song(birthday)\n",
        "print(f\"The number 1 song on the Billboard when you was a teenager was {song} by {Artist}\")\n",
        "print(f\"You can find the song on YouTube at the following link: {youtube_link}.\")"
      ],
      "metadata": {
        "id": "iq3f6SE2Al-O"
      },
      "execution_count": null,
      "outputs": []
    }
  ]
}