{
  "metadata": {
    "language_info": {
      "name": "python"
    },
    "kernelspec": {
      "name": "python3",
      "display_name": "Python 3"
    },
    "colab": {
      "provenance": [],
      "include_colab_link": true
    },
    "gpuClass": "standard"
  },
  "nbformat_minor": 0,
  "nbformat": 4,
  "cells": [
    {
      "cell_type": "markdown",
      "metadata": {
        "id": "view-in-github",
        "colab_type": "text"
      },
      "source": [
        "<a href=\"https://colab.research.google.com/github/RedaKHuder/First-Py-Project/blob/main/FindSong.ipynb\" target=\"_parent\"><img src=\"https://colab.research.google.com/assets/colab-badge.svg\" alt=\"Open In Colab\"/></a>"
      ]
    },
    {
      "cell_type": "code",
      "source": [
        "!pip install requests"
      ],
      "metadata": {
        "colab": {
          "base_uri": "https://localhost:8080/"
        },
        "id": "GpZJhn_vAR-u",
        "outputId": "296576cb-cfbd-40e3-ccea-d5c72dbe4045"
      },
      "execution_count": null,
      "outputs": [
        {
          "output_type": "stream",
          "name": "stdout",
          "text": [
            "Looking in indexes: https://pypi.org/simple, https://us-python.pkg.dev/colab-wheels/public/simple/\n",
            "Requirement already satisfied: requests in /usr/local/lib/python3.8/dist-packages (2.25.1)\n",
            "Requirement already satisfied: chardet<5,>=3.0.2 in /usr/local/lib/python3.8/dist-packages (from requests) (4.0.0)\n",
            "Requirement already satisfied: certifi>=2017.4.17 in /usr/local/lib/python3.8/dist-packages (from requests) (2022.12.7)\n",
            "Requirement already satisfied: idna<3,>=2.5 in /usr/local/lib/python3.8/dist-packages (from requests) (2.10)\n",
            "Requirement already satisfied: urllib3<1.27,>=1.21.1 in /usr/local/lib/python3.8/dist-packages (from requests) (1.24.3)\n"
          ]
        }
      ]
    },
    {
      "cell_type": "code",
      "source": [
        "import requests\n",
        "from bs4 import BeautifulSoup\n",
        "from datetime import datetime\n",
        "from urllib.parse import quote"
      ],
      "metadata": {
        "id": "ueUQyKDsAgHt"
      },
      "execution_count": 1,
      "outputs": []
    },
    {
      "cell_type": "code",
      "source": [
        "\n",
        "def get_song(birthday):\n",
        "  # Convert the birthday string to a date object\n",
        "  birthday_date = datetime.strptime(birthday, \"%Y-%m-%d\")\n",
        "  # Calculate the year after 15 years\n",
        "  bday_year = birthday_date.year + 15\n",
        "  # set the birthday month\n",
        "  bday_week = birthday_date.strftime(\"%m\")\n",
        "  # set the birthday day\n",
        "  bday_day = birthday_date.strftime(\"%d\")\n",
        "  # Set the URL\n",
        "  url = f\"https://www.billboard.com/charts/hot-100/{bday_year}-{bday_week}-{bday_day}\"\n",
        "  print(f\"URL: {url}\")\n",
        "  # Send a request to the URL\n",
        "  response = requests.get(url)\n",
        "  # Parse the HTML of the page\n",
        "  soup = BeautifulSoup(response.text, \"html.parser\")\n",
        "  # Find the first song on the chart\n",
        "  song = soup.find(\"a\", class_=\"c-title__link lrv-a-unstyle-link\")\n",
        "  if song is not None:\n",
        "    song = song.text.strip()\n",
        "  # Return the song\n",
        "    encoded_song = quote(song)\n",
        "  # Create a link to YouTube for the song\n",
        "  youtube_link = f\"https://www.youtube.com/results?search_query={encoded_song}\"\n",
        "  # Return the song and link\n",
        "  return song, youtube_link\n",
        "  return song\n",
        "  "
      ],
      "metadata": {
        "id": "l7I4MhaMCMyW"
      },
      "execution_count": 5,
      "outputs": []
    },
    {
      "cell_type": "code",
      "source": [
        "# Active teh Code:\n",
        "birthday = input(\"Enter your birthday (YYYY-MM-DD): \")\n",
        "song,youtube_link = get_song(birthday)\n",
        "print(f\"The number 1 song on the Billboard when you was a teenager was {song}\")\n",
        "print(f\"You can find the song on YouTube at the following link: {youtube_link}.\")"
      ],
      "metadata": {
        "id": "iq3f6SE2Al-O",
        "colab": {
          "base_uri": "https://localhost:8080/"
        },
        "outputId": "2a7500c0-b8b8-4b63-8adc-57d2474cb8fe"
      },
      "execution_count": 6,
      "outputs": [
        {
          "output_type": "stream",
          "name": "stdout",
          "text": [
            "Enter your birthday (YYYY-MM-DD): 1993-04-26\n",
            "URL: https://www.billboard.com/charts/hot-100/2008-04-26\n",
            "The number 1 song on the Billboard when you was a teenager was Bleeding Love\n",
            "You can find the song on YouTube at the following link: https://www.youtube.com/results?search_query=Bleeding%20Love.\n"
          ]
        }
      ]
    },
    {
      "cell_type": "code",
      "source": [],
      "metadata": {
        "id": "qUmDKBdvl01L"
      },
      "execution_count": null,
      "outputs": []
    }
  ]
}